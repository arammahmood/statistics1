{
 "cells": [
  {
   "cell_type": "markdown",
   "id": "f12ca91f",
   "metadata": {},
   "source": [
    "# Lab 1"
   ]
  },
  {
   "cell_type": "code",
   "execution_count": null,
   "id": "2c8c6320",
   "metadata": {},
   "outputs": [],
   "source": [
    "import pandas as pd\n",
    "import numpy as np\n",
    "import matplotlib.pyplot as plt\n",
    "import seaborn as sns\n",
    "import scipy.stats as st"
   ]
  },
  {
   "cell_type": "code",
   "execution_count": null,
   "id": "2e21457b",
   "metadata": {},
   "outputs": [],
   "source": [
    "mydata = pd.read_csv('Deaths.csv')"
   ]
  },
  {
   "cell_type": "code",
   "execution_count": null,
   "id": "71f85027",
   "metadata": {},
   "outputs": [],
   "source": [
    "mydata.head(5)"
   ]
  },
  {
   "cell_type": "code",
   "execution_count": null,
   "id": "b0820fa4",
   "metadata": {},
   "outputs": [],
   "source": [
    "mydata.describe(include = \"all\")"
   ]
  },
  {
   "cell_type": "code",
   "execution_count": null,
   "id": "1a34eb71",
   "metadata": {
    "scrolled": true
   },
   "outputs": [],
   "source": [
    "mydata.info()"
   ]
  },
  {
   "cell_type": "code",
   "execution_count": null,
   "id": "45f14613",
   "metadata": {
    "scrolled": true
   },
   "outputs": [],
   "source": [
    "%matplotlib inline\n",
    "\n",
    "mydata.hist(figsize = (40,30))"
   ]
  },
  {
   "cell_type": "code",
   "execution_count": null,
   "id": "d9d302ff",
   "metadata": {},
   "outputs": [],
   "source": [
    "pd.crosstab(mydata['UNIT_NUM'],mydata['STUB_NAME'] )"
   ]
  },
  {
   "cell_type": "code",
   "execution_count": null,
   "id": "dc491038",
   "metadata": {},
   "outputs": [],
   "source": [
    "sns.countplot(x=\"UNIT\", hue=\"INDICATOR\", data=mydata)"
   ]
  },
  {
   "cell_type": "code",
   "execution_count": null,
   "id": "c4fa43f7-a096-4673-bac3-5f2adb8ddf49",
   "metadata": {},
   "outputs": [],
   "source": [
    "sns.boxplot(x=\"YEAR_NUM\", y=\"AGE\", data=mydata)"
   ]
  },
  {
   "cell_type": "code",
   "execution_count": null,
   "id": "7573f671",
   "metadata": {},
   "outputs": [],
   "source": [
    "mydata['UNIT_NUM'].std()"
   ]
  },
  {
   "cell_type": "code",
   "execution_count": null,
   "id": "fb7a8b83",
   "metadata": {},
   "outputs": [],
   "source": [
    "mydata['AGE_NUM'].std()"
   ]
  },
  {
   "cell_type": "code",
   "execution_count": null,
   "id": "94f04f04",
   "metadata": {
    "scrolled": true
   },
   "outputs": [],
   "source": [
    "mydata['AGE_NUM'].mean()"
   ]
  },
  {
   "cell_type": "code",
   "execution_count": null,
   "id": "b2e332a4",
   "metadata": {},
   "outputs": [],
   "source": [
    "mydata['YEAR_NUM'].mean()"
   ]
  },
  {
   "cell_type": "code",
   "execution_count": null,
   "id": "f38161e7",
   "metadata": {},
   "outputs": [],
   "source": [
    "mydata['STUB_LABEL_NUM'].mean()"
   ]
  },
  {
   "cell_type": "code",
   "execution_count": null,
   "id": "75a8d936",
   "metadata": {},
   "outputs": [],
   "source": [
    "mydata.hist(by='AGE',column = 'AGE_NUM')"
   ]
  },
  {
   "cell_type": "code",
   "execution_count": null,
   "id": "de0bd059-425a-491c-a997-fe250997d59c",
   "metadata": {},
   "outputs": [],
   "source": [
    "mydata.hist(by='STUB_LABEL',column = 'STUB_LABEL_NUM')"
   ]
  },
  {
   "cell_type": "markdown",
   "id": "efd3af54",
   "metadata": {},
   "source": [
    "# Lab 2 "
   ]
  },
  {
   "cell_type": "markdown",
   "id": "d5f92e74-2ced-4710-8018-53343dcca24d",
   "metadata": {},
   "source": [
    "This class, *Intro to Statistics*, builds on probability theory to enable us to quantify our confidence about how distributions of data are related to one another. \n",
    "\n",
    "Through the measured exposition of theory paired with interactive examples, you’ll develop a working understanding of all of the essential statistical tests for assessing whether data are correlated with each other or sampled from different populations -- tests which frequently come in handy for critically evaluating the inputs and outputs of machine learning algorithms."
   ]
  },
  {
   "cell_type": "markdown",
   "id": "bc25254b-e093-4377-85c7-5d3c09b9b4a6",
   "metadata": {},
   "source": [
    "Over the course of studying this topic, you'll: \n",
    "\n",
    "* Develop an understanding of what’s going on beneath the hood of predictive statistical models and machine learning algorithms, including those used for deep learning."
   ]
  },
  {
   "cell_type": "markdown",
   "id": "6aa78b00-1873-484d-bfae-cefcbf12eef4",
   "metadata": {},
   "source": [
    "## Segment 1: Frequentist Statistics"
   ]
  },
  {
   "cell_type": "markdown",
   "id": "dc2f328d-b8a2-4714-87ad-16f008f0089a",
   "metadata": {},
   "source": [
    "### Measures of Central Tendency"
   ]
  },
  {
   "cell_type": "markdown",
   "id": "ffa0f71a-84be-459b-9aaa-d52fcf47a177",
   "metadata": {},
   "source": [
    "Measures of central tendency provide a summary statistic on the center of a given distribution, a.k.a., the \"average\" value of the distribution."
   ]
  },
  {
   "cell_type": "markdown",
   "id": "70c06fe5-eeb7-414c-99a2-9954b72d1b99",
   "metadata": {},
   "source": [
    "<div class=\"alert alert-block alert-info\">\n",
    "    <p> <b>Important info:</b> \n",
    "    </p> For learning, there is nothing better than doing.\n",
    "    <p><b><i>Share your project on GitHub</i></b></p>\n",
    "</div>"
   ]
  },
  {
   "cell_type": "markdown",
   "id": "82be5295-7f52-4afe-b2db-370c08dff8fc",
   "metadata": {},
   "source": [
    "<div class=\"alert alert-block alert-warning\">\n",
    "    <p><b>Your project reflects your character:</b></p> When you plot your data set, you have to discuss different distributions for it, e.g., _ central tendecy, mean, outlier, trend...etc._\n",
    "</div>"
   ]
  },
  {
   "cell_type": "markdown",
   "id": "e40065fa-61de-4083-9213-408485bd4af1",
   "metadata": {},
   "source": [
    "<div class=\"alert alert-block alert-success\">\n",
    "<b>How to get a full mark:</b> Be smart and find interested information which lead you insight to the domain of your data set. Because half of the project marks is open ended question which depends on your finding.\n",
    "</div>"
   ]
  },
  {
   "cell_type": "markdown",
   "id": "df4cd67c-b655-41ca-99a6-71dc2946da44",
   "metadata": {},
   "source": [
    "<div class=\"alert alert-block alert-danger\">\n",
    "<b>Just pass:</b> You may be pass in the project by only doing what we practice in the lab, so it is up to you.\n",
    "</div>"
   ]
  },
  {
   "cell_type": "code",
   "execution_count": null,
   "id": "9f83e4b4-d25f-4bb9-a783-da4a23565a21",
   "metadata": {},
   "outputs": [],
   "source": [
    "x = st.skewnorm.rvs(1, size=1000)\n",
    "# arg1 default is 1 (normal) above that generate right skweed\n",
    "# and below it will generate left skweed\n",
    "# the amount of skeeness depend on the number ratio to size "
   ]
  },
  {
   "cell_type": "code",
   "execution_count": null,
   "id": "d2b14ed0-03f7-46a5-9296-730cfd6ea949",
   "metadata": {},
   "outputs": [],
   "source": [
    "x[3:10]"
   ]
  },
  {
   "cell_type": "code",
   "execution_count": null,
   "id": "18f4d0ea",
   "metadata": {},
   "outputs": [],
   "source": [
    "ax = plt.subplots()\n",
    "_ = plt.hist(x, color = 'lightblue')"
   ]
  },
  {
   "cell_type": "markdown",
   "id": "b654ec54",
   "metadata": {},
   "source": [
    "### Mean"
   ]
  },
  {
   "cell_type": "markdown",
   "id": "35fe98d4-3763-4a62-99ec-f1530ac3da9f",
   "metadata": {},
   "source": [
    "The most common measure of central tendency, synonomous with the term \"average\", is the **mean**, often symbolized with $\\mu$ (population) or $\\bar{x}$ (sample):"
   ]
  },
  {
   "cell_type": "markdown",
   "id": "2ef44f2a-422e-4a21-a700-bc08c5524e8e",
   "metadata": {},
   "source": [
    "$$ \\bar{x} = \\frac{\\sum_{i=1}^n x_i}{n} $$"
   ]
  },
  {
   "cell_type": "markdown",
   "id": "c5a3049a-682d-4504-9d17-3ea8407499b4",
   "metadata": {},
   "source": [
    "xbar = x.mean()\n",
    "xbar"
   ]
  },
  {
   "cell_type": "code",
   "execution_count": null,
   "id": "5955b316",
   "metadata": {},
   "outputs": [],
   "source": [
    "fig, ax = plt.subplots()\n",
    "plt.axvline(x = x.mean(), color='black')\n",
    "_ = plt.hist(x, color = 'cyan')"
   ]
  },
  {
   "cell_type": "markdown",
   "id": "336a3d90",
   "metadata": {},
   "source": [
    "### Median"
   ]
  },
  {
   "cell_type": "markdown",
   "id": "65f09319-a2ea-4477-b70e-0ab20c669302",
   "metadata": {},
   "source": [
    "The second most common measure of central tendency is the **median**, the midpoint value in the distribution: "
   ]
  },
  {
   "cell_type": "code",
   "execution_count": null,
   "id": "a6caca77",
   "metadata": {},
   "outputs": [],
   "source": [
    "np.median(x)"
   ]
  },
  {
   "cell_type": "markdown",
   "id": "29c1b549-820f-4988-b901-4c3906360b55",
   "metadata": {},
   "source": [
    "The mode is least impacted by skew, but is typically only applicable to discrete distributions. For continuous distributions with skew (e.g., salary data), median is typically the choice measure of central tendency:"
   ]
  },
  {
   "cell_type": "code",
   "execution_count": null,
   "id": "96e514d9",
   "metadata": {},
   "outputs": [],
   "source": [
    "fig, ax = plt.subplots()\n",
    "plt.axvline(x = np.mean(x), color='red')\n",
    "plt.axvline(x = np.median(x), color='blue')\n",
    "_ = plt.hist(x, color = 'cyan')"
   ]
  },
  {
   "cell_type": "markdown",
   "id": "1a3f97cd",
   "metadata": {},
   "source": [
    "## Measures of Variation\n"
   ]
  },
  {
   "cell_type": "markdown",
   "id": "a36e4f3a",
   "metadata": {},
   "source": [
    "###          Variance"
   ]
  },
  {
   "cell_type": "markdown",
   "id": "2d31a58a-962f-4500-b197-379216f270e9",
   "metadata": {},
   "source": [
    "$$ \\sigma^2 = \\frac{\\sum_{i=1}^n (x_i-\\bar{x})^2}{n} $$"
   ]
  },
  {
   "cell_type": "code",
   "execution_count": null,
   "id": "8f33c5d9",
   "metadata": {},
   "outputs": [],
   "source": [
    "x.var()"
   ]
  },
  {
   "cell_type": "markdown",
   "id": "05c10999",
   "metadata": {},
   "source": [
    "### Standard deviation"
   ]
  },
  {
   "cell_type": "markdown",
   "id": "18db42d0-a850-4b7a-bcfb-592202d8fe35",
   "metadata": {},
   "source": [
    "A straightforward derivative of variance is **standard deviation** (denoted with $\\sigma$), which is convenient because its units are on the same scale as the values in the distribution: \n",
    "$$ \\sigma = \\sqrt{\\sigma^2} $$"
   ]
  },
  {
   "cell_type": "code",
   "execution_count": null,
   "id": "72b260a9",
   "metadata": {},
   "outputs": [],
   "source": [
    "# ** = power\n",
    "x.var()**(1/2)\n"
   ]
  },
  {
   "cell_type": "code",
   "execution_count": null,
   "id": "36973a56",
   "metadata": {},
   "outputs": [],
   "source": [
    "sd = x.std()\n",
    "sd"
   ]
  },
  {
   "cell_type": "markdown",
   "id": "48a0cd92-6774-4233-844f-d599d0839b92",
   "metadata": {},
   "source": [
    "#### Standard Error"
   ]
  },
  {
   "cell_type": "code",
   "execution_count": null,
   "id": "577624ea-5be1-4165-9189-6de18c9778b4",
   "metadata": {},
   "outputs": [],
   "source": [
    "sd/(x.size)**(1/2)"
   ]
  },
  {
   "cell_type": "code",
   "execution_count": null,
   "id": "24933523-c5df-4916-962a-4f2e979d24a8",
   "metadata": {},
   "outputs": [],
   "source": [
    "st.sem(x) # defaults to 1 degree of freedom, which can be ignored with the larger data sets of ML"
   ]
  },
  {
   "cell_type": "code",
   "execution_count": null,
   "id": "4a26d0b4-9ba2-426a-a18e-96cf1f50a228",
   "metadata": {},
   "outputs": [],
   "source": [
    "st.sem(x, ddof=0)"
   ]
  },
  {
   "cell_type": "markdown",
   "id": "92f7339d-f669-491a-bcef-378db3555bb9",
   "metadata": {},
   "source": [
    "Standard error enables us to compare whether the means of two distributions differ *significantly*, a focus of *Intro to Stats*."
   ]
  },
  {
   "cell_type": "markdown",
   "id": "2edad641-4118-4d43-af7d-8a9ae6867ae5",
   "metadata": {},
   "source": [
    "### Gaussian Distribution"
   ]
  },
  {
   "cell_type": "markdown",
   "id": "08ec916a-a4da-4022-a4e7-32e51f503586",
   "metadata": {},
   "source": [
    "After Carl Friedrich Gauss. Also known as **normal distribution**: \n"
   ]
  },
  {
   "cell_type": "code",
   "execution_count": null,
   "id": "e369b519-0b1c-40d0-83c7-868425e21243",
   "metadata": {},
   "outputs": [],
   "source": [
    "x = np.random.normal(size=10000)"
   ]
  },
  {
   "cell_type": "code",
   "execution_count": null,
   "id": "5b776a3a-cb81-49b9-a667-100d8329f157",
   "metadata": {},
   "outputs": [],
   "source": [
    "sns.set_style('ticks')"
   ]
  },
  {
   "cell_type": "code",
   "execution_count": null,
   "id": "d37bfd76-bd75-48e5-a66a-7c1d43df6c12",
   "metadata": {},
   "outputs": [],
   "source": [
    "_ = sns.displot(x, kde=True)"
   ]
  },
  {
   "cell_type": "markdown",
   "id": "54165f8a-b11b-464f-a57b-dd7c1e76f930",
   "metadata": {},
   "source": [
    "When the normal distribution has a mean ($\\mu$) of zero and standard deviation ($\\sigma$) of one, as it does by default with the NumPy `normal()` method..."
   ]
  },
  {
   "cell_type": "code",
   "execution_count": null,
   "id": "318cc13a-73bc-4dff-90cb-427d77298eeb",
   "metadata": {},
   "outputs": [],
   "source": [
    "x.mean()"
   ]
  },
  {
   "cell_type": "code",
   "execution_count": null,
   "id": "f5a67176-e548-455e-86a8-8b02d889a3a7",
   "metadata": {},
   "outputs": [],
   "source": [
    "x.std()"
   ]
  },
  {
   "cell_type": "markdown",
   "id": "884547fa-b38d-44ed-9a28-dda2fd924df5",
   "metadata": {},
   "source": [
    "...it is a **standard normal distribution** (a.k.a., standard Gaussian distribution or ***z*-distribution**), which can be denoted as $\\mathcal{N}(\\mu, \\sigma^2) = \\mathcal{N}(0, 1)$ (noting that $\\sigma^2 = \\sigma$ here because $1^2 = 1$)."
   ]
  },
  {
   "cell_type": "markdown",
   "id": "4829cc00-c210-4428-9f30-a540f6d70106",
   "metadata": {},
   "source": [
    "Normal distributions are by far the most common distribution in statistics and machine learning. They are typically the default option, particularly if you have limited information about the random process you're modeling, because: \n",
    "\n",
    "1. Normal distributions assume the greatest possible uncertainty about the random variable they represent (relative to any other distribution of equivalent variance). Details of this are beyond the scope of this tutorial. \n",
    "2. Simple and very complex random processes alike are, under all common conditions, normally distributed when we sample values from the process. Since we sample data for statistical and machine learning models alike, this so-called **central limit theorem** (covered next) is a critically important concept. "
   ]
  },
  {
   "cell_type": "markdown",
   "id": "bb9fcb81-0b1d-4922-9d38-e1bf0175438e",
   "metadata": {},
   "source": [
    "### The Central Limit Theorem"
   ]
  },
  {
   "cell_type": "markdown",
   "id": "c101cb73-4cac-4ee6-a436-04ede196b376",
   "metadata": {},
   "source": [
    "To develop a functional understanding of the CLT, let's sample some values from our normal distribution:"
   ]
  },
  {
   "cell_type": "code",
   "execution_count": null,
   "id": "b532f481-2944-4311-8495-59cc1ae95af0",
   "metadata": {},
   "outputs": [],
   "source": [
    "x_sample = np.random.choice(x, size=10, replace=False)\n",
    "x_sample"
   ]
  },
  {
   "cell_type": "code",
   "execution_count": null,
   "id": "1011b7f5-9e21-4568-beed-a5b8c50c6982",
   "metadata": {},
   "outputs": [],
   "source": [
    "x_sample.mean()"
   ]
  },
  {
   "cell_type": "code",
   "execution_count": null,
   "id": "5abf9111-4ab9-4927-bf14-4704f3e11b75",
   "metadata": {},
   "outputs": [],
   "source": [
    "def sample_mean_calculator(input_dist, sample_size, n_samples):\n",
    "    sample_means = []\n",
    "    for i in range(n_samples):\n",
    "        sample = np.random.choice(input_dist, size=sample_size, replace=False)\n",
    "        sample_means.append(sample.mean())\n",
    "    return sample_means"
   ]
  },
  {
   "cell_type": "code",
   "execution_count": null,
   "id": "3d2212d9-a5e4-463e-ba89-02f651c4b4d7",
   "metadata": {},
   "outputs": [],
   "source": [
    "sns.displot(sample_mean_calculator(x, 10, 10), color='green', kde=True)\n",
    "_ = plt.xlim(-1.5, 1.5)"
   ]
  },
  {
   "cell_type": "markdown",
   "id": "027f69ac-8327-4e8e-8a91-d3db9673b144",
   "metadata": {},
   "source": [
    "The more samples we take, the more likely that the sampling distribution of the means will be normally distributed: "
   ]
  },
  {
   "cell_type": "code",
   "execution_count": null,
   "id": "c434f4f0-8ca5-41c1-ac36-615b26cd066e",
   "metadata": {},
   "outputs": [],
   "source": [
    "sns.displot(sample_mean_calculator(x, 10, 1000), color='green', kde=True)\n",
    "_ = plt.xlim(-1.5, 1.5)"
   ]
  },
  {
   "cell_type": "code",
   "execution_count": null,
   "id": "ec2568c3-465f-4282-8675-b44e8fe2b0a5",
   "metadata": {},
   "outputs": [],
   "source": [
    "sns.displot(sample_mean_calculator(x, 100, 1000), color='green', kde=True)\n",
    "_ = plt.xlim(-1.5, 1.5)"
   ]
  },
  {
   "cell_type": "code",
   "execution_count": null,
   "id": "764b652f-ff8a-4519-9336-31afa388045b",
   "metadata": {},
   "outputs": [],
   "source": [
    "sns.displot(sample_mean_calculator(x, 1000, 1000), color='green', kde=True)\n",
    "_ = plt.xlim(-1.5, 1.5)"
   ]
  },
  {
   "cell_type": "markdown",
   "id": "2cedc8d5-fcdf-453a-be08-5f7db8af823f",
   "metadata": {},
   "source": [
    "#### Sampling from a skewed distribution"
   ]
  },
  {
   "cell_type": "code",
   "execution_count": null,
   "id": "6d790b64-e104-4851-9786-2b5d0a3dc989",
   "metadata": {},
   "outputs": [],
   "source": [
    "s = st.skewnorm.rvs(10, size=10000)"
   ]
  },
  {
   "cell_type": "code",
   "execution_count": null,
   "id": "3cb559b9-894d-4236-a84b-0685bf7791b9",
   "metadata": {},
   "outputs": [],
   "source": [
    "_ = sns.displot(s, kde=True)"
   ]
  },
  {
   "cell_type": "code",
   "execution_count": null,
   "id": "3314b0e1-8816-4576-85cc-fede350c1a4f",
   "metadata": {},
   "outputs": [],
   "source": [
    "_ = sns.displot(sample_mean_calculator(s, 10, 1000), color='green', kde=True)"
   ]
  },
  {
   "cell_type": "code",
   "execution_count": null,
   "id": "4476efc1-57f9-43b5-b33e-98e5ef34e151",
   "metadata": {},
   "outputs": [],
   "source": [
    "_ = sns.displot(sample_mean_calculator(s, 1000, 1000), color='green', kde=True)"
   ]
  },
  {
   "cell_type": "markdown",
   "id": "73a92e3e-63b7-4e1d-b6d0-341d201d1183",
   "metadata": {},
   "source": [
    "#### Sampling from a multimodal distribution"
   ]
  },
  {
   "cell_type": "code",
   "execution_count": null,
   "id": "fb2e2914-52ad-4d02-88ca-52fe2b9b8d32",
   "metadata": {},
   "outputs": [],
   "source": [
    "m = np.concatenate((np.random.normal(size=5000), np.random.normal(loc = 4.0, size=5000)))"
   ]
  },
  {
   "cell_type": "code",
   "execution_count": null,
   "id": "fe1dba23-bd9a-41e5-87ef-f362c68f82e6",
   "metadata": {},
   "outputs": [],
   "source": [
    "_ = sns.displot(m, kde=True)"
   ]
  },
  {
   "cell_type": "code",
   "execution_count": null,
   "id": "75549af7-d2f9-42e0-97c4-b8d5584c6957",
   "metadata": {},
   "outputs": [],
   "source": [
    "_ = sns.displot(sample_mean_calculator(m, 1000, 1000), color='green', kde=True)"
   ]
  },
  {
   "cell_type": "markdown",
   "id": "71e39999-2ad1-49c0-8457-c32f318bfeb9",
   "metadata": {},
   "source": [
    "#### Sampling from uniform"
   ]
  },
  {
   "cell_type": "markdown",
   "id": "8282dcb9-b420-4a82-ae39-27a772c13928",
   "metadata": {},
   "source": [
    "Even sampling from the highly non-normal uniform distribution, the sampling distribution comes out normal: "
   ]
  },
  {
   "cell_type": "code",
   "execution_count": null,
   "id": "052ae7fb-56e5-4d1e-a10e-c202807dcf2b",
   "metadata": {},
   "outputs": [],
   "source": [
    "u = np.random.uniform(size=10000)"
   ]
  },
  {
   "cell_type": "code",
   "execution_count": null,
   "id": "ae79e292-a378-4b74-b7f0-d37dce232d5d",
   "metadata": {},
   "outputs": [],
   "source": [
    "_ = sns.displot(u)"
   ]
  },
  {
   "cell_type": "code",
   "execution_count": null,
   "id": "0c864a34-c9b9-426c-bfc3-ec421e6cb008",
   "metadata": {},
   "outputs": [],
   "source": [
    "_ = sns.displot(sample_mean_calculator(u, 1000, 1000), color='green', kde=True)"
   ]
  },
  {
   "cell_type": "markdown",
   "id": "a281ddf0-d2d8-4c76-a3e2-af37476ed201",
   "metadata": {},
   "source": [
    "Therefore, with large enough sample sizes, we can assume the sampling distribution of the means will be normally distributed, allowing us to apply statistical and ML models that are configured for normally distributed noise, which is often the default assumption.\n",
    "\n",
    "As an example, the \"*t*-test\" (covered shortly in *Intro to Stats*) allows us to infer whether two samples come from different populations (say, an experimental group that receives a treatment and a control group that receives a placebo). Thanks to the CLT, we can use this test even if we have no idea what the underlying distributions of the populations being tested are, which may be the case more frequently than not."
   ]
  },
  {
   "cell_type": "markdown",
   "id": "0d84d065-95da-4c96-8dd9-c0d68281086a",
   "metadata": {},
   "source": [
    "# Until here on 17/5/2024"
   ]
  },
  {
   "cell_type": "markdown",
   "id": "a426cf41-0f83-4fdb-b1ba-19fe5222c96a",
   "metadata": {},
   "source": [
    "### z-scores"
   ]
  },
  {
   "cell_type": "markdown",
   "id": "f4ceb7e4-6523-410e-a9b7-d1006d3d3e91",
   "metadata": {},
   "source": [
    "Assuming normally-distributed data, a z-score indicates how many standard deviations away from the mean a data point (say, $x_i$) is: \n",
    "$$ z = \\frac{x_i-\\mu}{\\sigma} $$"
   ]
  },
  {
   "cell_type": "markdown",
   "id": "2072b07d-a157-44b5-b6bd-e68c8cd6781c",
   "metadata": {},
   "source": [
    "That is, the formula *standardizes* a given score $x_i$ to the (standard normal) *z*-distribution. (As we covered in *Probability & Information Theory*, you could standardize any normal distribution to a mean of zero and standard deviation of one by subtracting its original mean and then dividing by its original standard deviation.)"
   ]
  },
  {
   "cell_type": "markdown",
   "id": "cc42e71a-4700-427c-96c7-3abe77a8c61a",
   "metadata": {},
   "source": [
    "For example, let's say you get 85% on a CS101 exam. Sounds like a pretty good score and you did extremely well relative to your peers if the mean was 60% with a standard deviation of 10%:"
   ]
  },
  {
   "cell_type": "code",
   "execution_count": null,
   "id": "fbb5b6a2-4f56-463d-8a71-e303ded30c6a",
   "metadata": {},
   "outputs": [],
   "source": [
    "x_i = 85\n",
    "mu = 60\n",
    "sigma = 10"
   ]
  },
  {
   "cell_type": "code",
   "execution_count": null,
   "id": "68e55e0e-bf9f-4700-9545-99b63fb4670c",
   "metadata": {},
   "outputs": [],
   "source": [
    "x = np.random.normal(mu, sigma, 10000)"
   ]
  },
  {
   "cell_type": "code",
   "execution_count": null,
   "id": "4f41f599-97c6-478d-99a8-f07ed90967e6",
   "metadata": {},
   "outputs": [],
   "source": [
    "sns.displot(x, color='gray')\n",
    "ax.set_xlim(0, 100)\n",
    "plt.axvline(mu, color='orange')\n",
    "for v in [-3, -2, -1, 1, 2, 3]:\n",
    "    plt.axvline(mu+v*sigma, color='olivedrab')\n",
    "_ = plt.axvline(x_i, color='purple')"
   ]
  },
  {
   "cell_type": "markdown",
   "id": "7439e487-75b3-4342-a0d7-9c6fd9b328c5",
   "metadata": {},
   "source": [
    "Your z-score is 2.5 standard deviations above the mean: "
   ]
  },
  {
   "cell_type": "code",
   "execution_count": null,
   "id": "66ffb3ab-1906-4024-860c-a58e340e2e39",
   "metadata": {},
   "outputs": [],
   "source": [
    "z = (x_i - mu)/sigma\n",
    "z"
   ]
  },
  {
   "cell_type": "markdown",
   "id": "ff71f741-5df5-4cb6-a337-65109b295388",
   "metadata": {},
   "source": [
    "Or using our simulated class of 10k CS101 students: "
   ]
  },
  {
   "cell_type": "code",
   "execution_count": null,
   "id": "fb76c8f9-ccac-43bd-befb-9036b73fb323",
   "metadata": {},
   "outputs": [],
   "source": [
    "z = (x_i - np.mean(x))/np.std(x)\n",
    "z"
   ]
  },
  {
   "cell_type": "markdown",
   "id": "e457665c-6b13-4ed3-9df0-76839bb92985",
   "metadata": {},
   "source": [
    "Less than one percent of the class outperformed you: "
   ]
  },
  {
   "cell_type": "code",
   "execution_count": null,
   "id": "fad011d5-1669-4c66-98d0-7fbd26fbbcb3",
   "metadata": {},
   "outputs": [],
   "source": [
    "len(np.where(x > 85)[0])"
   ]
  },
  {
   "cell_type": "code",
   "execution_count": null,
   "id": "b719b0f3-e3de-4763-9b98-941f7a3e998a",
   "metadata": {},
   "outputs": [],
   "source": [
    "100*69/10000"
   ]
  },
  {
   "cell_type": "code",
   "execution_count": null,
   "id": "e1586530-3390-45b7-a756-093b8f6be5e0",
   "metadata": {},
   "outputs": [],
   "source": [
    "np.percentile(x, 99)"
   ]
  },
  {
   "cell_type": "markdown",
   "id": "0f2585bc-4645-4ccf-b4ad-f72c63e7f4fe",
   "metadata": {},
   "source": [
    "In contrast, if the mean score of your peers is 90 and the standard deviation is 2: "
   ]
  },
  {
   "cell_type": "code",
   "execution_count": null,
   "id": "18668d30-500e-43b3-bf27-45a3560db997",
   "metadata": {},
   "outputs": [],
   "source": [
    "mu = 90\n",
    "sigma = 2"
   ]
  },
  {
   "cell_type": "code",
   "execution_count": null,
   "id": "c71cc355-8755-45f1-8713-62fc744c06a3",
   "metadata": {},
   "outputs": [],
   "source": [
    "y = np.random.normal(mu, sigma, 10000)"
   ]
  },
  {
   "cell_type": "code",
   "execution_count": null,
   "id": "a9f47c21-93ec-47b6-9706-56536d1c043b",
   "metadata": {},
   "outputs": [],
   "source": [
    "sns.displot(y, color='gray')\n",
    "plt.axvline(mu, color='orange')\n",
    "for v in [-3, -2, -1, 1, 2, 3]:\n",
    "    plt.axvline(mu+v*sigma, color='olivedrab')\n",
    "_ = plt.axvline(x_i, color='purple')"
   ]
  },
  {
   "cell_type": "markdown",
   "id": "8cfe936d-25d3-4b6d-9f9a-2284e85d13c9",
   "metadata": {},
   "source": [
    "Your z-score is 2.5 standard deviations *below* the mean (!): "
   ]
  },
  {
   "cell_type": "code",
   "execution_count": null,
   "id": "9addf32f-b16f-4fdb-a49c-f99855830f0c",
   "metadata": {},
   "outputs": [],
   "source": [
    "z = (x_i - mu)/sigma\n",
    "z"
   ]
  },
  {
   "cell_type": "markdown",
   "id": "40628c96-988c-4876-b7c2-949f5cf9abd4",
   "metadata": {},
   "source": [
    "Or using our simulated class of 10k CS101 students: "
   ]
  },
  {
   "cell_type": "code",
   "execution_count": null,
   "id": "e86760fe-55f3-4fc2-bd36-c7ab8b9bad39",
   "metadata": {},
   "outputs": [],
   "source": [
    "z = (x_i - np.mean(y))/np.std(y)\n",
    "z"
   ]
  },
  {
   "cell_type": "markdown",
   "id": "19a1131d-dc14-4c91-9388-6bba386dfec7",
   "metadata": {},
   "source": [
    "In which case, over 99% of the class outperformed you: "
   ]
  },
  {
   "cell_type": "code",
   "execution_count": null,
   "id": "82f98f4d-bcec-4832-a261-221c52c26dea",
   "metadata": {},
   "outputs": [],
   "source": [
    "len(np.where(y > 85)[0])"
   ]
  },
  {
   "cell_type": "code",
   "execution_count": null,
   "id": "1c9b41db-3090-4b80-a2e3-371ac74e0908",
   "metadata": {},
   "outputs": [],
   "source": [
    "100*9933/10000"
   ]
  },
  {
   "cell_type": "markdown",
   "id": "d987ac4f-0a5a-4128-a8fb-e04f88a42619",
   "metadata": {},
   "source": [
    "A mere 67 folks attained worse: "
   ]
  },
  {
   "cell_type": "code",
   "execution_count": null,
   "id": "8f8e3b13-ffec-4ccf-8dca-2f7f65614c74",
   "metadata": {},
   "outputs": [],
   "source": [
    "10000-9933"
   ]
  },
  {
   "cell_type": "code",
   "execution_count": null,
   "id": "5bf79e97-0b92-4d92-9409-83472cfa7cac",
   "metadata": {},
   "outputs": [],
   "source": [
    "np.percentile(y, 1)"
   ]
  },
  {
   "cell_type": "markdown",
   "id": "b69535f4-71bd-4632-978e-1248e5cee5bc",
   "metadata": {},
   "source": [
    "### *p*-values"
   ]
  },
  {
   "cell_type": "markdown",
   "id": "eae80aa6-6431-4676-86dc-c259c51e0db8",
   "metadata": {},
   "source": [
    "These quantify the *p*robability that a given observation would occur by chance alone. \n",
    "\n",
    "For example, we saw above that with our simulated 10k exam results, only 69 folks attained a *z*-score above 2.5 and only 67 (=10000-9993) attained a *z*-score below -2.5. Thus, if we were to randomly sample one of the 10k CS101 exam results, we would expect it to be outside of 2.5 (i.e., +/- 2.5) standard deviations only 1.36% of the time: \n",
    "$$ \\frac{69+67}{10000} = 0.0136 = 1.36\\% $$"
   ]
  },
  {
   "cell_type": "markdown",
   "id": "a0fdeeb3-7152-4f85-bcc1-84e83228fd53",
   "metadata": {},
   "source": [
    "Equivalent to increasing our CS101 class size from 10k toward infinity, the probability of a score being further than 2.5 standard deviations from the mean of a normal distribution can be determined with the distribution's *cumulative distribution function* (CDF): "
   ]
  },
  {
   "cell_type": "code",
   "execution_count": null,
   "id": "fb383eb7-8a1e-416c-a2a8-ab2598ad0cad",
   "metadata": {},
   "outputs": [],
   "source": [
    "p_below = st.norm.cdf(-2.5)\n",
    "p_below"
   ]
  },
  {
   "cell_type": "code",
   "execution_count": null,
   "id": "cce4a327-ec42-41ea-98fe-f5209ef4a161",
   "metadata": {},
   "outputs": [],
   "source": [
    "p_below*10000"
   ]
  },
  {
   "cell_type": "code",
   "execution_count": null,
   "id": "ec13cd59-c331-464f-95a6-1619c9bdf0fe",
   "metadata": {},
   "outputs": [],
   "source": [
    "sns.displot(y, color='gray')\n",
    "_ = plt.axvline(mu-2.5*sigma, color='blue')"
   ]
  },
  {
   "cell_type": "code",
   "execution_count": null,
   "id": "203ffec7-92ea-47f5-bf55-e57400aec567",
   "metadata": {},
   "outputs": [],
   "source": [
    "st.norm.cdf(2.5)"
   ]
  },
  {
   "cell_type": "code",
   "execution_count": null,
   "id": "7374aac3-29fa-4595-a22d-86a2956e9922",
   "metadata": {},
   "outputs": [],
   "source": [
    "p_above = 1-st.norm.cdf(2.5)\n",
    "p_above"
   ]
  },
  {
   "cell_type": "code",
   "execution_count": null,
   "id": "4bffb554-1377-4412-aa20-f917b17d1feb",
   "metadata": {},
   "outputs": [],
   "source": [
    "p_above*10000"
   ]
  },
  {
   "cell_type": "code",
   "execution_count": null,
   "id": "a0149ee4-74d4-498d-b048-432de04c1419",
   "metadata": {},
   "outputs": [],
   "source": [
    "sns.displot(y, color='gray')\n",
    "_ = plt.axvline(mu+2.5*sigma, color='blue')"
   ]
  },
  {
   "cell_type": "code",
   "execution_count": null,
   "id": "b1adb3e1-211a-4067-9527-dccab86f610f",
   "metadata": {},
   "outputs": [],
   "source": [
    "p_outside = p_below + p_above\n",
    "p_outside"
   ]
  },
  {
   "cell_type": "code",
   "execution_count": null,
   "id": "93eea2f5-25a6-455a-ad26-3c3dcd985dc4",
   "metadata": {},
   "outputs": [],
   "source": [
    "p_outside*10000"
   ]
  },
  {
   "cell_type": "code",
   "execution_count": null,
   "id": "d25d78bf-4350-4e71-8ca3-70a26ade1822",
   "metadata": {},
   "outputs": [],
   "source": [
    "sns.displot(y, color='gray')\n",
    "plt.axvline(mu+2.5*sigma, color='blue')\n",
    "_ = plt.axvline(mu-2.5*sigma, color='blue')"
   ]
  },
  {
   "cell_type": "markdown",
   "id": "6aef04fa-d104-4085-9d1f-7e9e54568b6d",
   "metadata": {},
   "source": [
    "In other words, assuming a normal distribution, the probability (the *p*-value) of a sampled value being at least 2.5 standard deviations away from the mean by chance alone is $p \\approx .0124$."
   ]
  },
  {
   "cell_type": "markdown",
   "id": "74f916b7-a964-433b-a8b1-26db8c64dfbc",
   "metadata": {},
   "source": [
    "The frequentist convention is that if a *p*-value is less than .05, we can say that it is a \"statistically significant\" observation. We typically denote this significance threshold with $\\alpha$, e.g., $\\alpha = .05$.\n",
    "\n",
    "For example, with a fair coin, the probability of throwing six heads *or* six tails in a six-coin-flip experiment is 0.03125 ($p = 0.015625$ for *either of* six heads or six tails). Refer back to the `coinflip_prob()` method from the [*Probability* notebook](https://github.com/jonkrohn/ML-foundations/blob/master/notebooks/5-probability.ipynb) for proof.\n",
    "\n",
    "If a friend of yours hands you a coin, the **null hypothesis** (the baseline assumed by the fair-toss distribution) would be that the coin is fair. If you test this coin by flipping it six times and it comes up heads on all six or tails on all six, this observation would suggest that you should *reject the null hypothesis* because chance alone would facilitate such an observation less than 5% of the time, i.e., $p < .05$."
   ]
  },
  {
   "cell_type": "markdown",
   "id": "5843233b-2d58-4f65-a976-525a8df27153",
   "metadata": {},
   "source": [
    "The *z*-scores corresponding to $\\alpha = .05$ can be obtained from the normal distribution's *percent point function* (PPF), which facilitates the inverse of the CDF. To capture 95% of the values around the mean, we leave 2.5% at the bottom of the distribution and 2.5% at the top: "
   ]
  },
  {
   "cell_type": "code",
   "execution_count": null,
   "id": "bf7d3902-56db-4207-90b5-94924b2dcd01",
   "metadata": {},
   "outputs": [],
   "source": [
    "st.norm.ppf(.025)"
   ]
  },
  {
   "cell_type": "code",
   "execution_count": null,
   "id": "696dd5c2-a352-42eb-b785-c1bb70b2127e",
   "metadata": {},
   "outputs": [],
   "source": [
    "st.norm.ppf(.975)"
   ]
  },
  {
   "cell_type": "markdown",
   "id": "d1efed27-614a-41f9-a3bb-9a4c903466ed",
   "metadata": {},
   "source": [
    "Thus, at the traditional $\\alpha = .05$, a sampled value with *z*-score less than -1.96 or greater than 1.96 would be considered statistically significant."
   ]
  },
  {
   "cell_type": "code",
   "execution_count": null,
   "id": "1fe9bd9d-4c53-422e-940a-db6470547b79",
   "metadata": {},
   "outputs": [],
   "source": [
    "sns.displot(y, color='gray')\n",
    "plt.axvline(mu+1.96*sigma, color='darkred')\n",
    "_ = plt.axvline(mu-1.96*sigma, color='darkred')"
   ]
  },
  {
   "cell_type": "markdown",
   "id": "b38ee403-d230-42a4-92b7-90cb15c83e6d",
   "metadata": {},
   "source": [
    "With a stricter threshold, say $\\alpha = .01$:"
   ]
  },
  {
   "cell_type": "code",
   "execution_count": null,
   "id": "6e451ebf-26fe-43b6-87d4-a92929617c3b",
   "metadata": {},
   "outputs": [],
   "source": [
    "st.norm.ppf(.005)"
   ]
  },
  {
   "cell_type": "code",
   "execution_count": null,
   "id": "41436bc6-e58e-4ead-ba2b-b8422dd76e57",
   "metadata": {},
   "outputs": [],
   "source": [
    "st.norm.ppf(.995)"
   ]
  },
  {
   "cell_type": "code",
   "execution_count": null,
   "id": "4b633d14-4e14-4c75-b074-bbfc0a8a48ed",
   "metadata": {},
   "outputs": [],
   "source": [
    "sns.displot(y, color='gray')\n",
    "\n",
    "plt.axvline(mu+1.96*sigma, color='darkred')\n",
    "plt.axvline(mu-1.96*sigma, color='darkred')\n",
    "\n",
    "plt.axvline(mu+2.56*sigma, color='black')\n",
    "_ = plt.axvline(mu-2.56*sigma, color='black')"
   ]
  },
  {
   "cell_type": "markdown",
   "id": "e9267525-e8f6-47b6-b2ab-1c3aee84ca66",
   "metadata": {},
   "source": [
    "(Time-permitting, a discussion of two-tailed vs one-tailed *p*-value tests would be informative here.)"
   ]
  },
  {
   "cell_type": "code",
   "execution_count": null,
   "id": "7cbb6579-906e-4425-a6ab-8f35af52dd63",
   "metadata": {},
   "outputs": [],
   "source": [
    "p_below = st.norm.cdf(0)\n",
    "p_below"
   ]
  },
  {
   "cell_type": "code",
   "execution_count": null,
   "id": "7825df2d-eff6-4173-b633-b8a5e72a4e41",
   "metadata": {},
   "outputs": [],
   "source": [
    "p_above = 1-st.norm.cdf(0)\n",
    "p_above"
   ]
  },
  {
   "cell_type": "code",
   "execution_count": null,
   "id": "a4a2c12a-b65a-4a73-a75e-4d5f65546c30",
   "metadata": {},
   "outputs": [],
   "source": [
    "p_below + p_above"
   ]
  },
  {
   "cell_type": "markdown",
   "id": "ee8886c3-82bf-4050-b821-71637992e12a",
   "metadata": {},
   "source": [
    "More generally: "
   ]
  },
  {
   "cell_type": "code",
   "execution_count": null,
   "id": "5030beb7-705c-4c1d-9c0c-54d862b66d9c",
   "metadata": {},
   "outputs": [],
   "source": [
    "def p_from_z(my_z):\n",
    "    return 2 * st.norm.cdf(-abs(my_z))"
   ]
  },
  {
   "cell_type": "code",
   "execution_count": null,
   "id": "a8f47002-9ac9-4a52-ba49-e3dbe012f9d0",
   "metadata": {},
   "outputs": [],
   "source": [
    "p_from_z(0)"
   ]
  },
  {
   "cell_type": "markdown",
   "id": "567b8667-8ddb-43c8-aafd-d2092711615f",
   "metadata": {},
   "source": [
    "1b. The probability of a value being below $z = -2$ is:"
   ]
  },
  {
   "cell_type": "code",
   "execution_count": null,
   "id": "b46831ff-368c-4cde-863d-485e937c38de",
   "metadata": {},
   "outputs": [],
   "source": [
    "p_below = st.norm.cdf(-2)\n",
    "p_below"
   ]
  },
  {
   "cell_type": "markdown",
   "id": "fb02655e-88d9-4d7b-a957-be45182f5160",
   "metadata": {},
   "source": [
    "...and the probability of a value being above $z=2$ is the same: "
   ]
  },
  {
   "cell_type": "code",
   "execution_count": null,
   "id": "e2e9270f-b303-4236-affa-baea8b561124",
   "metadata": {},
   "outputs": [],
   "source": [
    "p_above = 1-st.norm.cdf(2)\n",
    "p_above"
   ]
  },
  {
   "cell_type": "markdown",
   "id": "4028d9a8-835b-4df5-a393-d1555e8ccacb",
   "metadata": {},
   "source": [
    "Therefore, the *p*-value -- the probability that a value is below $z=-2$ or above $z=2$ -- is:"
   ]
  },
  {
   "cell_type": "code",
   "execution_count": null,
   "id": "d340170f-adca-416d-999c-f7bcad964304",
   "metadata": {},
   "outputs": [],
   "source": [
    "p_below + p_above"
   ]
  },
  {
   "cell_type": "code",
   "execution_count": null,
   "id": "ea2b614c-28cb-40c0-b673-93c191a65300",
   "metadata": {},
   "outputs": [],
   "source": [
    "p_from_z(2)"
   ]
  },
  {
   "cell_type": "markdown",
   "id": "c7a33c9f-1627-458d-b27d-3e51dc35848f",
   "metadata": {},
   "source": [
    "1c. Following the same calculations as we did for 1b, the *p*-value for an observation 4 standard deviations away from the mean is: "
   ]
  },
  {
   "cell_type": "code",
   "execution_count": null,
   "id": "7a87f8a8-2d53-4d9c-bf9b-87f624b50893",
   "metadata": {},
   "outputs": [],
   "source": [
    "p_from_z(4)"
   ]
  },
  {
   "cell_type": "markdown",
   "id": "3bbab1f0-bc5f-4aec-bcc4-e7d0cedb814a",
   "metadata": {},
   "source": [
    "...which is about 0.0000633: "
   ]
  },
  {
   "cell_type": "code",
   "execution_count": null,
   "id": "ee8618e5-0ed5-4cf4-a382-0439c9c81020",
   "metadata": {},
   "outputs": [],
   "source": [
    "0.0000633"
   ]
  },
  {
   "cell_type": "markdown",
   "id": "8ef5e5db-384b-4d35-afb0-372ada359e4e",
   "metadata": {},
   "source": [
    "(Incidentally, very small *p* values are often reported as **negative log *P*** values as these are much easier to read...)"
   ]
  },
  {
   "cell_type": "code",
   "execution_count": null,
   "id": "44270b3f-f0a3-49c3-811a-980077457d11",
   "metadata": {},
   "outputs": [],
   "source": [
    "-np.log10(6.33e-05)"
   ]
  },
  {
   "cell_type": "markdown",
   "id": "0daff1f4-b01a-4e29-826c-9b3854c9a21b",
   "metadata": {},
   "source": [
    "2. The absolute value of the *z*-score for your snatch as well as your combined score is greater than 1.96 so they're both \"statistically significant\". Your performance on the clean and jerk could not have been less significant!"
   ]
  },
  {
   "cell_type": "markdown",
   "id": "44e8323f-4ab3-4915-98e1-e3adbad40324",
   "metadata": {},
   "source": [
    "### Comparing Means with *t*-tests"
   ]
  },
  {
   "cell_type": "markdown",
   "id": "90e39399-d637-4cde-99b8-8e49fad3744c",
   "metadata": {},
   "source": [
    "Where *z*-scores apply to *individual values* only, *t*-tests enables us to compare (the mean of) a sample of *multiple values* to a reference mean."
   ]
  },
  {
   "cell_type": "markdown",
   "id": "02d9af61-e07e-432f-9018-fdfeca19ab0c",
   "metadata": {},
   "source": [
    "#### Student's Single-Sample *t*-test"
   ]
  },
  {
   "cell_type": "markdown",
   "id": "bf442540-1306-44dc-94b6-a07619368172",
   "metadata": {},
   "source": [
    "Named after William Sealy Gosset, an Oxford-trained scientist and mathematician, who became a stout yield statistician for Guinness in Dublin (from 1899 to his fatal heart attack in 1937 shortly after being promoted to head brewer). Alongside sabbaticals in Karl Pearson's UCL Biometric Laboratory, Gosset published under the pseudonym Student (including on the *t*-test, starting in 1908) as it was against Guinness policy to publish."
   ]
  },
  {
   "cell_type": "markdown",
   "id": "94550e11-b1fe-4773-951b-8b2c3823eee9",
   "metadata": {},
   "source": [
    "Recalling the formula for calculating a *z*-score: \n",
    "$$ z = \\frac{x_i-\\mu}{\\sigma} $$"
   ]
  },
  {
   "cell_type": "markdown",
   "id": "61881be5-1162-4fe2-ad94-8e9f405ec663",
   "metadata": {},
   "source": [
    "The **single-sample *t*-test** is a variation on the theme and is defined by: \n",
    "$$ t = \\frac{\\bar{x} - \\mu_0}{s_{\\bar{x}}} $$\n",
    "Where: \n",
    "* $\\bar{x}$ is the sample mean\n",
    "* $\\mu_0$ is a reference mean, e.g., known population mean or \"null hypothesis\" mean\n",
    "* $s_{\\bar{x}}$ is the sample standard error"
   ]
  },
  {
   "cell_type": "markdown",
   "id": "904ef001-796b-49f5-b76c-a2b3649c2887",
   "metadata": {},
   "source": [
    "Let's say you're the head brewer at Guinness. Your baseline brewing process yields 50L of stout. Using a new genetically-modified yeast, you obtain the following yields (all in liters) in four separate experiments: "
   ]
  },
  {
   "cell_type": "code",
   "execution_count": null,
   "id": "68145665-1cc9-4cf5-afa6-0a66175dca2e",
   "metadata": {},
   "outputs": [],
   "source": [
    "x = [48, 50, 54, 60]"
   ]
  },
  {
   "cell_type": "markdown",
   "id": "fd6710b4-b454-4494-ae17-a192a65c918d",
   "metadata": {},
   "source": [
    "We can obtain the *t*-statistic for this sample as follows: "
   ]
  },
  {
   "cell_type": "code",
   "execution_count": null,
   "id": "2be2e2e3-174e-4769-88dd-381049826200",
   "metadata": {},
   "outputs": [],
   "source": [
    "xbar = np.mean(x)\n",
    "xbar"
   ]
  },
  {
   "cell_type": "code",
   "execution_count": null,
   "id": "305cb15a-6f3b-40a3-8504-9d6c5899ea74",
   "metadata": {},
   "outputs": [],
   "source": [
    "sx = st.sem(x)\n",
    "sx"
   ]
  },
  {
   "cell_type": "code",
   "execution_count": null,
   "id": "2c3e2761-e4a7-4ca3-86ce-42b64ffcf53d",
   "metadata": {},
   "outputs": [],
   "source": [
    "t = (xbar-50)/sx\n",
    "t"
   ]
  },
  {
   "cell_type": "markdown",
   "id": "58c723fc-5d5f-4152-8e98-d3765fba6712",
   "metadata": {},
   "source": [
    "We can convert the *t*-value into a *p*-value using Student's *t*-distribution (similar to the normal *z*-distribution, but varies based on number of data points in sample; see [here](https://en.wikipedia.org/wiki/Student%27s_t-distribution) for more detail):"
   ]
  },
  {
   "cell_type": "code",
   "execution_count": null,
   "id": "cff47627-5542-4237-bb98-b0a7870db50b",
   "metadata": {},
   "outputs": [],
   "source": [
    "# my_n is number of observation that you wnat to compare it to the mean\n",
    "\n",
    "def p_from_t(my_t, my_n):\n",
    "    return 2 * st.t.cdf(-abs(my_t), my_n-1) # 2nd arg to t.cdf() is \"degrees of freedom\""
   ]
  },
  {
   "cell_type": "code",
   "execution_count": null,
   "id": "228ac8f3-3987-4346-ad88-6b367344a11a",
   "metadata": {},
   "outputs": [],
   "source": [
    "# when p_value is <0.5 mean the provided observation\n",
    "# is not significantly differ from the provided mean\n",
    "p_from_t(t, len(x))"
   ]
  },
  {
   "cell_type": "markdown",
   "id": "4b30eb5d-490a-4675-9a32-42714d26fdd9",
   "metadata": {},
   "source": [
    "(An illustration of **degrees of freedom**: If we know the mean of the array `x`, three of its four values can vary freely. That is, if we know three of the values in the array, the fourth has no \"freedom\"; it must be a specific value. Thus, the most common situation with statistical tests is that we have *n*-1 degrees of freedom.)"
   ]
  },
  {
   "cell_type": "markdown",
   "id": "796c6f6c-4ead-4adf-a1ff-2076f938df01",
   "metadata": {},
   "source": [
    "For everyday usage, however, we can rely on the SciPy `ttest_1samp()` method: "
   ]
  },
  {
   "cell_type": "code",
   "execution_count": null,
   "id": "817d8ae7-1373-4442-ac36-8201debae1cb",
   "metadata": {},
   "outputs": [],
   "source": [
    "st.ttest_1samp(x, 50)"
   ]
  },
  {
   "cell_type": "markdown",
   "id": "2db23150-426b-487f-9555-d42d17b006db",
   "metadata": {},
   "source": [
    "#### Welch's Independent *t*-test"
   ]
  },
  {
   "cell_type": "markdown",
   "id": "17a6ec15-0733-4246-aec8-2679b56d0c14",
   "metadata": {},
   "source": [
    "In ordinary circumstances, if we have two samples whose means we'd like to compare, we use an **independent *t*-test**. "
   ]
  },
  {
   "cell_type": "code",
   "execution_count": null,
   "id": "67706b4a-ce5a-4936-bf5d-57edf745cc4b",
   "metadata": {},
   "outputs": [],
   "source": [
    "penguins = sns.load_dataset('penguins').dropna() # some rows are missing data"
   ]
  },
  {
   "cell_type": "code",
   "execution_count": null,
   "id": "abb3da05-ff56-4a67-867e-8ab04e62d2b6",
   "metadata": {},
   "outputs": [],
   "source": [
    "penguins"
   ]
  },
  {
   "cell_type": "code",
   "execution_count": null,
   "id": "699763e1-520e-46b3-b8d8-2aa35c5c7711",
   "metadata": {},
   "outputs": [],
   "source": [
    "np.unique(penguins.species, return_counts=True)"
   ]
  },
  {
   "cell_type": "code",
   "execution_count": null,
   "id": "76208108-01e1-4948-8a1f-e5004f810f87",
   "metadata": {},
   "outputs": [],
   "source": [
    "adelie = penguins[penguins.species == 'Adelie']"
   ]
  },
  {
   "cell_type": "code",
   "execution_count": null,
   "id": "9587b858-faa2-4428-aaf8-d22c219e73f4",
   "metadata": {},
   "outputs": [],
   "source": [
    "adelie"
   ]
  },
  {
   "cell_type": "code",
   "execution_count": null,
   "id": "cacd78d8-88b0-4a38-865e-7d2386ce39b5",
   "metadata": {},
   "outputs": [],
   "source": [
    "np.unique(adelie.island, return_counts=True)"
   ]
  },
  {
   "cell_type": "code",
   "execution_count": null,
   "id": "0c5ca57f-1344-4b17-8bb9-71f4f67533df",
   "metadata": {},
   "outputs": [],
   "source": [
    "np.unique(adelie.sex, return_counts=True)"
   ]
  },
  {
   "cell_type": "code",
   "execution_count": null,
   "id": "9223eccd-38b9-4e21-a5d1-3bcf1c88c74a",
   "metadata": {},
   "outputs": [],
   "source": [
    "_ = sns.boxplot(x='island', y='body_mass_g', hue='sex', data=adelie)"
   ]
  },
  {
   "cell_type": "markdown",
   "id": "08f776ec-00ce-49f7-9a26-b2ff5263d5cc",
   "metadata": {},
   "source": [
    "Mass doesn't appear to vary by island, so we can feel comfortable grouping the data together by island. Weight does, however, appear to vary by sex so let's take a closer look: "
   ]
  },
  {
   "cell_type": "code",
   "execution_count": null,
   "id": "15641ee1-cda6-40b4-a7b5-5b6a079d9f95",
   "metadata": {},
   "outputs": [],
   "source": [
    "f = adelie[adelie.sex == 'Female']['body_mass_g'].to_numpy()/1000\n",
    "f"
   ]
  },
  {
   "cell_type": "code",
   "execution_count": null,
   "id": "3b003e37-32bc-4731-bad8-0b9bd4f55704",
   "metadata": {},
   "outputs": [],
   "source": [
    "m = adelie[adelie.sex == 'Male']['body_mass_g'].to_numpy()/1000\n",
    "m"
   ]
  },
  {
   "cell_type": "code",
   "execution_count": null,
   "id": "7029f1a7-85ac-4664-a287-fb9fe6446b7c",
   "metadata": {},
   "outputs": [],
   "source": [
    "fbar = f.mean()\n",
    "fbar"
   ]
  },
  {
   "cell_type": "code",
   "execution_count": null,
   "id": "c44431e4-4f56-4332-b3fa-eccc2d8ac814",
   "metadata": {},
   "outputs": [],
   "source": [
    "mbar = m.mean()\n",
    "mbar"
   ]
  },
  {
   "cell_type": "markdown",
   "id": "949b9a06-5473-4e65-9b49-1e2e1393694f",
   "metadata": {},
   "source": [
    "To quantify whether males weigh significantly more than females, we can use the **Welch *t*-test**, devised by the 20th c. British statistician Bernard Lewis Welch:\n",
    "$$ t = \\frac{\\bar{x} - \\bar{y}}{\\sqrt{\\frac{s^2_x}{n_x} + \\frac{s^2_y}{n_y}}} $$\n",
    "Where: \n",
    "* $\\bar{x}$ and $\\bar{y}$ are the sample means\n",
    "* $s^2_x$ and $s^2_y$ are the sample variances\n",
    "* $n_x$ and $n_y$ are the sample sizes"
   ]
  },
  {
   "cell_type": "markdown",
   "id": "53c53673-086c-4ebd-81fe-d51ebc622f65",
   "metadata": {},
   "source": [
    "**N.B.**: Student's independent *t*-test is markedly more popular than Welch's, but Student's assumes equal population variances (i.e., $\\sigma^2_x \\approx \\sigma^2_y$), making it less robust. In case you're curious, Student's formula is the same as Welch's, except that it uses a pooled variance $s^2_p$ in place of individual sample variances ($s^2_x$ and $s^2_y$). You can read more about it [here](https://en.wikipedia.org/wiki/Student%27s_t-test#Independent_two-sample_t-test)."
   ]
  },
  {
   "cell_type": "code",
   "execution_count": null,
   "id": "8a54a770-76eb-47c9-b8c9-b82ae1fbaf1c",
   "metadata": {},
   "outputs": [],
   "source": [
    "sf = f.var(ddof=1)\n",
    "sm = m.var(ddof=1)"
   ]
  },
  {
   "cell_type": "code",
   "execution_count": null,
   "id": "69dad512-b33b-4ce3-afc6-23effd7a9da9",
   "metadata": {},
   "outputs": [],
   "source": [
    "nf = f.size\n",
    "nm = m.size"
   ]
  },
  {
   "cell_type": "code",
   "execution_count": null,
   "id": "2fe4f9db-2951-4dc4-9338-0367024d660e",
   "metadata": {},
   "outputs": [],
   "source": [
    "t = (fbar-mbar)/(sf/nf + sm/nm)**(1/2)\n",
    "t"
   ]
  },
  {
   "cell_type": "markdown",
   "id": "72da7d1a-6448-429f-afa4-9488c05eb172",
   "metadata": {},
   "source": [
    "Degrees of freedom for calculating the *p*-value are estimated using the [Welch–Satterthwaite equation](https://en.wikipedia.org/wiki/Welch–Satterthwaite_equation), which we won't detail but is defined as: "
   ]
  },
  {
   "cell_type": "code",
   "execution_count": null,
   "id": "80339f0b-1414-4276-be56-98f33a7ca33a",
   "metadata": {},
   "outputs": [],
   "source": [
    "def ws_eqn(sx, sy, nx, ny):\n",
    "    return (sx / nx + sy / ny)**2 / (sx**2 / (nx**2 * (nx - 1)) + sy**2 / (ny**2 * (ny - 1)))"
   ]
  },
  {
   "cell_type": "code",
   "execution_count": null,
   "id": "af9a26f9-39bf-4457-bb17-2a0948cf09a7",
   "metadata": {},
   "outputs": [],
   "source": [
    "df = ws_eqn(sf, sm, nf, nm)\n",
    "df"
   ]
  },
  {
   "cell_type": "code",
   "execution_count": null,
   "id": "c0ba28dd-c26a-4eef-997c-2935f4d9af32",
   "metadata": {},
   "outputs": [],
   "source": [
    "p = 2 * st.t.cdf(-abs(t), df) # or p_from_t(t, df+1)\n",
    "p"
   ]
  },
  {
   "cell_type": "code",
   "execution_count": null,
   "id": "bca816fe-eb45-40a1-97d4-8598b95c372c",
   "metadata": {},
   "outputs": [],
   "source": [
    "p_from_t(t, df+1)"
   ]
  },
  {
   "cell_type": "code",
   "execution_count": null,
   "id": "6d5e63cf-b862-4351-89fc-fa600b27f607",
   "metadata": {},
   "outputs": [],
   "source": [
    "-np.log10(p)"
   ]
  },
  {
   "cell_type": "code",
   "execution_count": null,
   "id": "687e202f-ffff-47ce-8622-3e2ea69052f0",
   "metadata": {},
   "outputs": [],
   "source": [
    "st.ttest_ind(f, m, equal_var=False) "
   ]
  },
  {
   "cell_type": "code",
   "execution_count": null,
   "id": "779cad1c-d2bc-4cfa-8a25-590879ad1347",
   "metadata": {},
   "outputs": [],
   "source": []
  }
 ],
 "metadata": {
  "kernelspec": {
   "display_name": "Python 3 (ipykernel)",
   "language": "python",
   "name": "python3"
  },
  "language_info": {
   "codemirror_mode": {
    "name": "ipython",
    "version": 3
   },
   "file_extension": ".py",
   "mimetype": "text/x-python",
   "name": "python",
   "nbconvert_exporter": "python",
   "pygments_lexer": "ipython3",
   "version": "3.11.7"
  }
 },
 "nbformat": 4,
 "nbformat_minor": 5
}
